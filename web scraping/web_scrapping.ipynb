{
  "nbformat": 4,
  "nbformat_minor": 0,
  "metadata": {
    "colab": {
      "name": "web_scrapping.ipynb",
      "provenance": []
    },
    "kernelspec": {
      "name": "python3",
      "display_name": "Python 3"
    },
    "language_info": {
      "name": "python"
    }
  },
  "cells": [
    {
      "cell_type": "code",
      "metadata": {
        "id": "Id9QE0hL3iiK"
      },
      "source": [
        "def parser(doc, tag):\n",
        "  #parse links\n",
        "  sel = doc.find_all(\"div\", {\"class\": \"col-md-8 brand-white-bg pad-y-4 pad-x-6\"})\n",
        "  global links\n",
        "  for link in sel:\n",
        "    links.append(link.find(\"a\")[\"href\"])\n",
        "\n",
        "  #parse questions\n",
        "  qs_selection_class = \"no-margin font-size-16\"\n",
        "  Question_tags = doc.find_all(\"h6\", {\"class\": qs_selection_class})\n",
        "  global question_tags\n",
        "  for question in Question_tags:\n",
        "    question_tags.append(question.get_text())\n",
        "    #append tags\n",
        "    tags.append(tag)\n",
        "\n",
        "  #parse answers\n",
        "  desc_selection_class = \"font-size-16-listing\"\n",
        "  Answer_desc_tag = doc.find_all(\"p\", {\"class\": desc_selection_class})\n",
        "  global answer_desc_tags\n",
        "  for answer in Answer_desc_tag:\n",
        "    answer_desc_tags.append(answer.get_text().strip())\n",
        "\n",
        "  #parse views\n",
        "  views_selection_class = \"pad-x-2\"\n",
        "  views = doc.find_all(\"span\", {\"class\": views_selection_class}) \n",
        "  views = views[:10]\n",
        "  global num_of_views\n",
        "  for nums in views:\n",
        "    num_of_views.append(nums.get_text().strip())\n",
        "\n",
        "  #parse likes\n",
        "  likes_selection_class = \"pad-x-1\"\n",
        "  likes = doc.find_all(\"span\", {\"class\": likes_selection_class})\n",
        "  global num_of_likes\n",
        "  for like in likes:\n",
        "    num_of_likes.append(like.get_text().strip())\n",
        "\n",
        "  #parse dates\n",
        "  date_selection_class = \"gray-light font-size-12 mar-b-2\"\n",
        "  dates = doc.find_all(\"div\", {\"class\" : date_selection_class})\n",
        "  global date_published\n",
        "  for date in dates:\n",
        "    date_published.append(date.find(\"span\").get_text().strip()[-11:].strip())\n",
        "  \n",
        "\n",
        "  "
      ],
      "execution_count": null,
      "outputs": []
    },
    {
      "cell_type": "code",
      "metadata": {
        "id": "oEb1DCLb3_G5"
      },
      "source": [
        "import requests\n",
        "from bs4 import BeautifulSoup\n",
        "\n",
        "blogs_url = \"https://www.bajajfinservmarkets.in/discover/journals/blogs/\"\n",
        "blogs_loan_url = \"https://www.bajajfinservmarkets.in/discover/journals/blogs/loans/\"\n",
        "blogs_insurance_url = \"https://www.bajajfinservmarkets.in/discover/journals/blogs/insurance/\"\n",
        "blogs_credit_url = \"https://www.bajajfinservmarkets.in/discover/journals/blogs/credit-card/\"\n",
        "blogs_emi_url = \"https://www.bajajfinservmarkets.in/discover/journals/blogs/emi-card/\"\n",
        "blogs_emi_store_url = \"https://www.bajajfinservmarkets.in/discover/journals/blogs/emi-store/\"\n",
        "blogs_investment_url = \"https://www.bajajfinservmarkets.in/discover/journals/blogs/investment/\"\n",
        "blogs_payment_url = \"https://www.bajajfinservmarkets.in/discover/journals/blogs/payments/\"\n",
        "blogs_service_url = \"https://www.bajajfinservmarkets.in/discover/journals/blogs/service/\"\n",
        "info_loans = \"https://www.bajajfinservmarkets.in/discover/journals/infographics/loans\"\n",
        "info_insurance = \"https://www.bajajfinservmarkets.in/discover/journals/infographics/insurance/\"\n",
        "speak_loans = \"https://www.bajajfinservmarkets.in/discover/expert-speak/loans/\"\n",
        "speak_insurance = \"https://www.bajajfinservmarkets.in/discover/expert-speak/insurance/\"\n",
        "speak_investment = \"https://www.bajajfinservmarkets.in/discover/expert-speak/investment/\"\n",
        "speak_emi = \"https://www.bajajfinservmarkets.in/discover/expert-speak/emi-store/\"\n",
        "speak_tech = \"https://www.bajajfinservmarkets.in/discover/expert-speak/technology/\"\n",
        "\n",
        "links = [] \n",
        "question_tags = [] \n",
        "answer_desc_tags = [] \n",
        "num_of_views = [] \n",
        "num_of_likes = [] \n",
        "date_published = []\n",
        "tags = []\n",
        "\n",
        "response1 = requests.get(blogs_url)\n",
        "response2 = requests.get(blogs_loan_url)\n",
        "response3 = requests.get(blogs_insurance_url)\n",
        "response4 = requests.get(blogs_credit_url)\n",
        "response5 = requests.get(blogs_emi_url)\n",
        "response6 = requests.get(blogs_emi_store_url)\n",
        "response7 = requests.get(blogs_investment_url)\n",
        "response8 = requests.get(blogs_payment_url)\n",
        "response9 = requests.get(blogs_service_url)\n",
        "response10 = requests.get(info_loans)\n",
        "response11 = requests.get(info_insurance)\n",
        "response12 =requests.get(speak_loans)\n",
        "response13 = requests.get(speak_insurance)\n",
        "response14 = requests.get(speak_emi)\n",
        "response15 = requests.get(speak_tech)\n",
        "\n",
        "blog1 = response1.text\n",
        "blog2 = response2.text\n",
        "blog3 = response3.text\n",
        "blog4 = response4.text\n",
        "blog5 = response5.text\n",
        "blog6 = response6.text\n",
        "blog7 = response7.text\n",
        "blog8 = response8.text\n",
        "blog9 = response9.text\n",
        "blog11 = response11.text\n",
        "blog10 = response10.text\n",
        "blog12 = response12.text\n",
        "blog13 = response13.text\n",
        "blog14 = response14.text\n",
        "blog15 = response15.text\n",
        "\n",
        "\n",
        "doc1 = BeautifulSoup(blog1, \"html.parser\")\n",
        "doc2 = BeautifulSoup(blog2, \"html.parser\")\n",
        "doc3 = BeautifulSoup(blog3, \"html.parser\")\n",
        "doc4 = BeautifulSoup(blog4, \"html.parser\")\n",
        "doc5 = BeautifulSoup(blog5, \"html.parser\")\n",
        "doc6 = BeautifulSoup(blog6, \"html.parser\")\n",
        "doc7 = BeautifulSoup(blog7, \"html.parser\")\n",
        "doc8 = BeautifulSoup(blog8, \"html.parser\")\n",
        "doc9 = BeautifulSoup(blog9, \"html.parser\")\n",
        "doc10 = BeautifulSoup(blog10, \"html.parser\")\n",
        "doc11 = BeautifulSoup(blog11, \"html.parser\")\n",
        "doc12 = BeautifulSoup(blog12, \"html.parser\")\n",
        "doc13 = BeautifulSoup(blog13, \"html.parser\")\n",
        "doc14 = BeautifulSoup(blog14, \"html.parser\")\n",
        "doc15 = BeautifulSoup(blog15, \"html.parser\")\n",
        "\n",
        "parser(doc1, \"general\")\n",
        "parser(doc2, \"loan\")\n",
        "parser(doc3, \"insuarance\")\n",
        "parser(doc4, \"credit\")\n",
        "parser(doc5, \"emi\")\n",
        "parser(doc6, \"emi_store\")\n",
        "parser(doc7, \"investment\")\n",
        "parser(doc8, \"payment\")\n",
        "parser(doc9, \"service\")\n",
        "parser(doc10, \"loan\")\n",
        "parser(doc11, \"insurance\")\n",
        "parser(doc12, \"loan\")\n",
        "parser(doc13, \"insurance\")\n",
        "parser(doc14, \"emi\")\n",
        "parser(doc15, \"technology\")"
      ],
      "execution_count": null,
      "outputs": []
    },
    {
      "cell_type": "code",
      "metadata": {
        "id": "Gg6wpTf0D9n4"
      },
      "source": [
        "del num_of_views[85]"
      ],
      "execution_count": null,
      "outputs": []
    },
    {
      "cell_type": "code",
      "metadata": {
        "id": "uc3s-crID-PE"
      },
      "source": [
        "del num_of_views[85]"
      ],
      "execution_count": null,
      "outputs": []
    },
    {
      "cell_type": "code",
      "metadata": {
        "id": "F9EXyYfSg5AV"
      },
      "source": [
        "del num_of_views[136]"
      ],
      "execution_count": null,
      "outputs": []
    },
    {
      "cell_type": "code",
      "metadata": {
        "id": "60vvjiTphKCL"
      },
      "source": [
        "del num_of_views[135]"
      ],
      "execution_count": null,
      "outputs": []
    },
    {
      "cell_type": "code",
      "metadata": {
        "id": "cZpEVE0AhNHa"
      },
      "source": [
        "del num_of_views[133]"
      ],
      "execution_count": null,
      "outputs": []
    },
    {
      "cell_type": "code",
      "metadata": {
        "id": "5kHpvNIdhUzH"
      },
      "source": [
        "del num_of_views[132]"
      ],
      "execution_count": null,
      "outputs": []
    },
    {
      "cell_type": "code",
      "metadata": {
        "id": "2PVBXhUHlMlt"
      },
      "source": [
        "def speak_date_parse(doc):\n",
        "  date_selection_class = \"gray-light font-size-12-listing-page\"\n",
        "  dates = doc.find_all(\"div\", {\"class\" : date_selection_class})\n",
        "\n",
        "  for date in dates:\n",
        "    date_published.append(\" \".join(date.get_text().strip().split()[4:6]))"
      ],
      "execution_count": null,
      "outputs": []
    },
    {
      "cell_type": "code",
      "metadata": {
        "id": "U_aLQCXulVOH"
      },
      "source": [
        "speak_date_parse(doc12)\n",
        "speak_date_parse(doc13)\n",
        "speak_date_parse(doc14)\n",
        "speak_date_parse(doc15)"
      ],
      "execution_count": null,
      "outputs": []
    },
    {
      "cell_type": "code",
      "metadata": {
        "colab": {
          "base_uri": "https://localhost:8080/"
        },
        "id": "vY8xlx_wlnaw",
        "outputId": "1100df1d-7f1d-413a-a97c-f5dc8e49c34e"
      },
      "source": [
        "len(date_published)"
      ],
      "execution_count": null,
      "outputs": [
        {
          "output_type": "execute_result",
          "data": {
            "text/plain": [
              "133"
            ]
          },
          "metadata": {
            "tags": []
          },
          "execution_count": 47
        }
      ]
    },
    {
      "cell_type": "code",
      "metadata": {
        "id": "mMkyRmDMltLX"
      },
      "source": [
        "market_url = \"https://www.bajajfinservmarkets.in/markets-insights.html\"\n",
        "response16 = requests.get(market_url)\n",
        "\n",
        "blog16 = response16.text\n",
        "doc16 = BeautifulSoup(blog16, \"html.parser\")\n",
        "\n",
        "#parse links\n",
        "sel = doc16.find_all(\"div\", {\"class\": \"ins-btns-wrap\"})\n",
        "for link in sel:\n",
        "  links.append(link.find(\"a\")[\"href\"])\n",
        "  #append tags\n",
        "  tags.append(\"market\")\n",
        "\n",
        "#parse question_tags\n",
        "qs_selection_class = \"ins-header-title-text\"\n",
        "Question_tags = doc16.find_all(\"h3\", {\"class\": qs_selection_class})\n",
        "for question in Question_tags:\n",
        "  question_tags.append(question.get_text())\n",
        "\n",
        "#parse answers\n",
        "desc_selection_class = \"ins-top-content-text\"\n",
        "Answer_desc_tag = doc16.find_all(\"p\", {\"class\": desc_selection_class})\n",
        "for answer in Answer_desc_tag:\n",
        "  answer_desc_tags.append(answer.get_text().strip())\n",
        "  #as view,like date info not avalable so append null in list\n",
        "  num_of_views.append(\"-\")\n",
        "  num_of_likes.append(\"-\")\n",
        "  date_published.append(\"-\")"
      ],
      "execution_count": null,
      "outputs": []
    },
    {
      "cell_type": "code",
      "metadata": {
        "id": "vrKOO50t_pP7"
      },
      "source": [
        "def video_page_parser(doc17, tag):\n",
        "  #parse question tags\n",
        "  qs_selection_class = \"no-margin font-size-16\"\n",
        "  Question_tags = doc17.find_all(\"h6\", {\"class\": qs_selection_class})\n",
        "  for question in Question_tags:\n",
        "    question_tags.append(question.get_text())\n",
        "    #append tag\n",
        "    tags.append(tag)\n",
        "\n",
        "  #parse links\n",
        "  sel = doc17.find_all(\"h6\", {\"class\": \"no-margin font-size-16\"})\n",
        "  for link in sel:\n",
        "    links.append(link.find(\"a\")[\"href\"])\n",
        "\n",
        "  #parse date\n",
        "  date_selection_class = \"pad-y-4 pad-x-6 content-wrapper\"\n",
        "  dates = doc17.find_all(\"div\", {\"class\": date_selection_class})\n",
        "  for date in dates:\n",
        "    date_published.append(date.find(\"p\").get_text().strip()[-11:].strip())\n",
        "  \n",
        "  #parse likes\n",
        "  likes_selection_class = \"pad-x-3 gray-light\"\n",
        "  likes_list = doc17.find_all(\"span\", {\"class\": likes_selection_class})\n",
        "  for like in likes_list:\n",
        "    num_of_likes.append(like.get_text())\n",
        "  \n",
        "  #parse views\n",
        "  views_selection_class = \"font-size-12-listing-page mar-b-1\"\n",
        "  views_list = doc17.find_all(\"div\", {\"class\": views_selection_class})\n",
        "  for view in views_list:\n",
        "    num_of_views.append(view.find(\"span\").get_text())\n",
        "  \n",
        "  #parse answer\n",
        "  desc_selection_class = \"pad-y-4 pad-x-6 content-wrapper\"\n",
        "  Answer_desc_tag = doc17.find_all(\"div\", {\"class\": desc_selection_class})\n",
        "  for answer in Answer_desc_tag:\n",
        "    answer_desc_tags.append(answer.find_all(\"p\")[1].get_text().strip())\n"
      ],
      "execution_count": null,
      "outputs": []
    },
    {
      "cell_type": "code",
      "metadata": {
        "id": "SytimhA-MnPY"
      },
      "source": [
        "video_url = \"https://www.bajajfinservmarkets.in/discover/videos/\"\n",
        "video_loans_url = \"https://www.bajajfinservmarkets.in/discover/videos/featured-videos/loans/\"\n",
        "video_insurance_url = \"https://www.bajajfinservmarkets.in/discover/videos/featured-videos/insurance/\"\n",
        "video_payment_url = \"https://www.bajajfinservmarkets.in/discover/videos/featured-videos/payments/\"\n",
        "video_emi_url = \"https://www.bajajfinservmarkets.in/discover/videos/featured-videos/emi-store/\"\n",
        "video_investment_url = \"https://www.bajajfinservmarkets.in/discover/videos/featured-videos/investment/\"\n",
        "video_service_url = \"https://www.bajajfinservmarkets.in/discover/videos/featured-videos/service/\"\n",
        "video_info_url = \"https://www.bajajfinservmarkets.in/discover/videos/news-flash/\"\n",
        "\n",
        "response17 = requests.get(video_url)\n",
        "response18 = requests.get(video_loans_url)\n",
        "response19 = requests.get(video_insurance_url)\n",
        "response20 = requests.get(video_payment_url)\n",
        "response21 = requests.get(video_emi_url)\n",
        "response22 = requests.get(video_investment_url)\n",
        "response23 = requests.get(video_service_url)\n",
        "response24 = requests.get(video_info_url)\n",
        "\n",
        "blog17 = response17.text\n",
        "blog18 = response18.text\n",
        "blog19 = response19.text\n",
        "blog20 = response20.text\n",
        "blog21 = response21.text\n",
        "blog22 = response22.text\n",
        "blog23 = response23.text\n",
        "blog24 = response24.text\n",
        "\n",
        "doc17 = BeautifulSoup(blog17, \"html.parser\")\n",
        "doc18 = BeautifulSoup(blog18, \"html.parser\")\n",
        "doc19 = BeautifulSoup(blog19, \"html.parser\")\n",
        "doc20 = BeautifulSoup(blog20, \"html.parser\")\n",
        "doc21 = BeautifulSoup(blog21, \"html.parser\")\n",
        "doc22 = BeautifulSoup(blog22, \"html.parser\")\n",
        "doc23 = BeautifulSoup(blog23, \"html.parser\")\n",
        "doc24 = BeautifulSoup(blog24, \"html.parser\")\n",
        "\n",
        "video_page_parser(doc17, \"video\")\n",
        "video_page_parser(doc18, \"loan\")\n",
        "video_page_parser(doc19, \"insurance\")\n",
        "video_page_parser(doc20, \"payment\")\n",
        "video_page_parser(doc21, \"emi\")\n",
        "video_page_parser(doc22, \"investment\")\n",
        "video_page_parser(doc23, \"service\")\n",
        "video_page_parser(doc24, \"information\")\n",
        "\n"
      ],
      "execution_count": null,
      "outputs": []
    },
    {
      "cell_type": "code",
      "metadata": {
        "id": "6I830wkuC5AN"
      },
      "source": [
        "calculator_url = \"https://www.bajajfinservmarkets.in/tools-and-calculators.html\"\n",
        "response25 = requests.get(calculator_url)\n",
        "blog25 = response25.text\n",
        "doc25 = BeautifulSoup(blog25, \"html.parser\")\n",
        "#parse question tags\n",
        "qs_selection_class = \"ins-header-title-text\"\n",
        "Question_tags = doc25.find_all(\"h3\", {\"class\": qs_selection_class})\n",
        "for question in Question_tags:\n",
        "  question_tags.append(question.get_text())\n",
        "  #append tags\n",
        "  tags.append(\"calculator\")\n"
      ],
      "execution_count": null,
      "outputs": []
    },
    {
      "cell_type": "code",
      "metadata": {
        "id": "T0h08cT9EMAZ"
      },
      "source": [
        "#parse links\n",
        "sel = doc25.find_all(\"div\", {\"class\": \"ins-btns-wrap\"})\n",
        "for link in sel:\n",
        "  links.append(link.find(\"a\")[\"href\"])"
      ],
      "execution_count": null,
      "outputs": []
    },
    {
      "cell_type": "code",
      "metadata": {
        "id": "oUjk9gNLFClb"
      },
      "source": [
        "#parse answer\n",
        "desc_selection_class = \"ins-top-slides-content\"\n",
        "Answer_desc_tag = doc25.find_all(\"div\", {\"class\": desc_selection_class})\n",
        "for answer in Answer_desc_tag:\n",
        "  answer_desc_tags.append(answer.find(\"p\").get_text().strip())\n",
        "  num_of_views.append(\"-\")\n",
        "  num_of_likes.append(\"-\")\n",
        "  date_published.append(\"-\")"
      ],
      "execution_count": null,
      "outputs": []
    },
    {
      "cell_type": "code",
      "metadata": {
        "id": "6IIeQdkXFgFQ"
      },
      "source": [
        "import pandas as pd\n",
        "\n",
        "data = {\"Tags\" :tags,\n",
        "\"Questions\" : question_tags ,\n",
        "\"Answers\" : answer_desc_tags,\n",
        "\"Address\" : links,\n",
        "\"Views\" : num_of_views,\n",
        "\"num_of_likes\" : num_of_likes,\n",
        "\"Date_published\" : date_published }\n",
        "\n",
        "df = pd.DataFrame(data)"
      ],
      "execution_count": null,
      "outputs": []
    },
    {
      "cell_type": "code",
      "metadata": {
        "colab": {
          "base_uri": "https://localhost:8080/"
        },
        "id": "BUh_BOKVGOVY",
        "outputId": "2c473008-4927-4d1f-f07f-fbcec226f7c1"
      },
      "source": [
        "df.shape"
      ],
      "execution_count": null,
      "outputs": [
        {
          "output_type": "execute_result",
          "data": {
            "text/plain": [
              "(214, 7)"
            ]
          },
          "metadata": {
            "tags": []
          },
          "execution_count": 55
        }
      ]
    },
    {
      "cell_type": "code",
      "metadata": {
        "id": "ITJhhtJXGXJf"
      },
      "source": [
        "df.sort_values(\"Address\", inplace = True)\n",
        " \n",
        "# dropping ALL duplicate values\n",
        "df.drop_duplicates(subset =\"Address\",\n",
        "                     keep = False, inplace = True)\n",
        " "
      ],
      "execution_count": null,
      "outputs": []
    },
    {
      "cell_type": "code",
      "metadata": {
        "colab": {
          "base_uri": "https://localhost:8080/"
        },
        "id": "XKl5Xco4GwZW",
        "outputId": "edd94e24-d6c5-4628-e5e3-b31e3b8cf7f4"
      },
      "source": [
        "df.shape"
      ],
      "execution_count": null,
      "outputs": [
        {
          "output_type": "execute_result",
          "data": {
            "text/plain": [
              "(174, 7)"
            ]
          },
          "metadata": {
            "tags": []
          },
          "execution_count": 57
        }
      ]
    },
    {
      "cell_type": "code",
      "metadata": {
        "colab": {
          "base_uri": "https://localhost:8080/",
          "height": 140
        },
        "id": "fH5BS2u7Gx5z",
        "outputId": "a0d5b56e-f737-401b-bf53-b1d1f3ab64b5"
      },
      "source": [
        "df.tail(2)"
      ],
      "execution_count": null,
      "outputs": [
        {
          "output_type": "execute_result",
          "data": {
            "text/html": [
              "<div>\n",
              "<style scoped>\n",
              "    .dataframe tbody tr th:only-of-type {\n",
              "        vertical-align: middle;\n",
              "    }\n",
              "\n",
              "    .dataframe tbody tr th {\n",
              "        vertical-align: top;\n",
              "    }\n",
              "\n",
              "    .dataframe thead th {\n",
              "        text-align: right;\n",
              "    }\n",
              "</style>\n",
              "<table border=\"1\" class=\"dataframe\">\n",
              "  <thead>\n",
              "    <tr style=\"text-align: right;\">\n",
              "      <th></th>\n",
              "      <th>Tags</th>\n",
              "      <th>Questions</th>\n",
              "      <th>Answers</th>\n",
              "      <th>Address</th>\n",
              "      <th>Views</th>\n",
              "      <th>num_of_likes</th>\n",
              "      <th>Date_published</th>\n",
              "    </tr>\n",
              "  </thead>\n",
              "  <tbody>\n",
              "    <tr>\n",
              "      <th>207</th>\n",
              "      <td>calculator</td>\n",
              "      <td>Income Tax Calculator</td>\n",
              "      <td>Making your tax calculations easy. Use this to...</td>\n",
              "      <td>https://www.bajajfinservmarkets.in/markets-ins...</td>\n",
              "      <td>-</td>\n",
              "      <td>-</td>\n",
              "      <td>-</td>\n",
              "    </tr>\n",
              "    <tr>\n",
              "      <th>209</th>\n",
              "      <td>calculator</td>\n",
              "      <td>PPF Calculator</td>\n",
              "      <td>Use our PPF calculator to perform even the mos...</td>\n",
              "      <td>https://www.bajajfinservmarkets.in/ppf-calcula...</td>\n",
              "      <td>-</td>\n",
              "      <td>-</td>\n",
              "      <td>-</td>\n",
              "    </tr>\n",
              "  </tbody>\n",
              "</table>\n",
              "</div>"
            ],
            "text/plain": [
              "           Tags              Questions  ... num_of_likes Date_published\n",
              "207  calculator  Income Tax Calculator  ...            -              -\n",
              "209  calculator         PPF Calculator  ...            -              -\n",
              "\n",
              "[2 rows x 7 columns]"
            ]
          },
          "metadata": {
            "tags": []
          },
          "execution_count": 58
        }
      ]
    },
    {
      "cell_type": "code",
      "metadata": {
        "id": "hNKJl8yFG4aZ"
      },
      "source": [
        "df.reset_index(inplace = True)"
      ],
      "execution_count": null,
      "outputs": []
    },
    {
      "cell_type": "code",
      "metadata": {
        "colab": {
          "base_uri": "https://localhost:8080/",
          "height": 140
        },
        "id": "JSfl8zZ-Hbys",
        "outputId": "a33cb4b0-8bc4-4bac-eaf6-baa62e48aefc"
      },
      "source": [
        "df.tail(2)"
      ],
      "execution_count": null,
      "outputs": [
        {
          "output_type": "execute_result",
          "data": {
            "text/html": [
              "<div>\n",
              "<style scoped>\n",
              "    .dataframe tbody tr th:only-of-type {\n",
              "        vertical-align: middle;\n",
              "    }\n",
              "\n",
              "    .dataframe tbody tr th {\n",
              "        vertical-align: top;\n",
              "    }\n",
              "\n",
              "    .dataframe thead th {\n",
              "        text-align: right;\n",
              "    }\n",
              "</style>\n",
              "<table border=\"1\" class=\"dataframe\">\n",
              "  <thead>\n",
              "    <tr style=\"text-align: right;\">\n",
              "      <th></th>\n",
              "      <th>index</th>\n",
              "      <th>Tags</th>\n",
              "      <th>Questions</th>\n",
              "      <th>Answers</th>\n",
              "      <th>Address</th>\n",
              "      <th>Views</th>\n",
              "      <th>num_of_likes</th>\n",
              "      <th>Date_published</th>\n",
              "    </tr>\n",
              "  </thead>\n",
              "  <tbody>\n",
              "    <tr>\n",
              "      <th>172</th>\n",
              "      <td>207</td>\n",
              "      <td>calculator</td>\n",
              "      <td>Income Tax Calculator</td>\n",
              "      <td>Making your tax calculations easy. Use this to...</td>\n",
              "      <td>https://www.bajajfinservmarkets.in/markets-ins...</td>\n",
              "      <td>-</td>\n",
              "      <td>-</td>\n",
              "      <td>-</td>\n",
              "    </tr>\n",
              "    <tr>\n",
              "      <th>173</th>\n",
              "      <td>209</td>\n",
              "      <td>calculator</td>\n",
              "      <td>PPF Calculator</td>\n",
              "      <td>Use our PPF calculator to perform even the mos...</td>\n",
              "      <td>https://www.bajajfinservmarkets.in/ppf-calcula...</td>\n",
              "      <td>-</td>\n",
              "      <td>-</td>\n",
              "      <td>-</td>\n",
              "    </tr>\n",
              "  </tbody>\n",
              "</table>\n",
              "</div>"
            ],
            "text/plain": [
              "     index        Tags              Questions  ... Views num_of_likes Date_published\n",
              "172    207  calculator  Income Tax Calculator  ...     -            -              -\n",
              "173    209  calculator         PPF Calculator  ...     -            -              -\n",
              "\n",
              "[2 rows x 8 columns]"
            ]
          },
          "metadata": {
            "tags": []
          },
          "execution_count": 60
        }
      ]
    },
    {
      "cell_type": "code",
      "metadata": {
        "id": "cR3vPQZrHcrn"
      },
      "source": [
        "df.replace(\" \", \"-\", inplace = True)"
      ],
      "execution_count": null,
      "outputs": []
    },
    {
      "cell_type": "code",
      "metadata": {
        "id": "zdd1N_P4CJYY"
      },
      "source": [
        "Questions = df.iloc[:,[0,2]]"
      ],
      "execution_count": null,
      "outputs": []
    },
    {
      "cell_type": "code",
      "metadata": {
        "id": "eGLT_1wzbhWF"
      },
      "source": [
        "Tags = df.iloc[:,:2]"
      ],
      "execution_count": null,
      "outputs": []
    },
    {
      "cell_type": "code",
      "metadata": {
        "id": "zCrV5XTacZY8"
      },
      "source": [
        "Answers = df.iloc[:,[0,3,4]]"
      ],
      "execution_count": null,
      "outputs": []
    },
    {
      "cell_type": "code",
      "metadata": {
        "id": "SU1HvOZecrvz"
      },
      "source": [
        "df.to_csv(\"dataset.csv\")\n",
        "Questions.to_csv(\"Questions.csv\")\n",
        "Answers.to_csv(\"Answers.csv\")\n",
        "Tags.to_csv(\"Tags.csv\")"
      ],
      "execution_count": null,
      "outputs": []
    },
    {
      "cell_type": "code",
      "metadata": {
        "id": "j1vWHzFqdI6t"
      },
      "source": [
        ""
      ],
      "execution_count": null,
      "outputs": []
    }
  ]
}